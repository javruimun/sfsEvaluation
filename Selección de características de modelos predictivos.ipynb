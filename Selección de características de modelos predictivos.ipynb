{
 "cells": [
  {
   "cell_type": "markdown",
   "metadata": {},
   "source": [
    "# Algoritmo de búsqueda para selección de características"
   ]
  },
  {
   "cell_type": "markdown",
   "metadata": {},
   "source": [
    "* **Javier Ruiz Muñiz**\n",
    "* **Jesús Elías Rodríguez**"
   ]
  },
  {
   "cell_type": "markdown",
   "metadata": {},
   "source": [
    "En este archivo se realizarán las implementaciones de los algoritmos SFS(Sequential forward selection) y SFFS(Sequential floating forward selection), siendo probadas y contrastando los resultados obtenidos para los dos conjuntos de datos proporcionados en la asignatura de IA."
   ]
  },
  {
   "cell_type": "markdown",
   "metadata": {},
   "source": [
    "Para la correcta implementación de los algoritmos citados, tuvimos que realizar un algoritmo de **validación robusta**, haciendo uso del framework de Python llamado Scikit-Learn, que nos proporcionó la función **cross_val_score** que nos permitió realizar validaciones mediante validación cruzada.\n",
    "\n",
    "La implementación sería la siguiente:"
   ]
  },
  {
   "cell_type": "code",
   "execution_count": 4,
   "metadata": {},
   "outputs": [],
   "source": [
    "def validacionRobusta(X,y,CV,hitRate):\n",
    "    \n",
    "    n_exp = 10  \n",
    "  \n",
    "    scoreI = list()\n",
    "    accuracies = dict()\n",
    "\n",
    "    for i in range(n_exp):\n",
    "        tree = DecisionTreeClassifier()\n",
    "        \n",
    "        #Aplicamos validación cruzada\n",
    "        scores = cross_val_score(tree,X,y,cv=CV,scoring=hitRate)\n",
    "        #print(scores)\n",
    "        avgScores = np.mean(scores)\n",
    "        accuracies.update({i:avgScores})\n",
    "\n",
    "    avgFinal = sum(accuracies.values())/n_exp\n",
    "    return avgFinal"
   ]
  },
  {
   "cell_type": "markdown",
   "metadata": {},
   "source": [
    "# SFS(Sequential forward selection)"
   ]
  },
  {
   "cell_type": "markdown",
   "metadata": {},
   "source": [
    "En primer lugar, debemos sacar los elementos del fichero **CSV** e introducirlos en un **DataFrame** para poder trabajar con ellos de manera más eficiente. Además introduciremos las importaciones utilizadas para la realización de los algoritmos:"
   ]
  },
  {
   "cell_type": "code",
   "execution_count": 5,
   "metadata": {},
   "outputs": [],
   "source": [
    "import pandas as pd\n",
    "import numpy as np\n",
    "import math\n",
    "import sklearn\n",
    "import operator\n",
    "\n",
    "import matplotlib.pyplot as plt\n",
    "from sklearn import tree, linear_model\n",
    "from sklearn.metrics import accuracy_score, balanced_accuracy_score\n",
    "from sklearn.model_selection import KFold\n",
    "from sklearn.model_selection import cross_val_score\n",
    "from sklearn.tree import DecisionTreeClassifier\n",
    "from collections import OrderedDict\n",
    "\n",
    "\n",
    "##Sacamos los datos del fichero csv\n",
    "datos = pd.read_csv('titanic.csv', sep=',', index_col=0)\n",
    "#datos = pd.read_csv('BreastCancerDataset.csv', sep=',', index_col=0)\n",
    "dataFrame = pd.DataFrame(datos)"
   ]
  },
  {
   "cell_type": "markdown",
   "metadata": {},
   "source": [
    "Una vez obtenidos los datos, podemos empezar a trabajar con ellos.\n",
    "\n",
    "La implementación del algoritmo SFS es la siguiente:"
   ]
  },
  {
   "cell_type": "code",
   "execution_count": 8,
   "metadata": {},
   "outputs": [],
   "source": [
    "#Devolver tabla con variables por k y su respectivo rendimiento\n",
    "def sfs(answerVar, predictorVar, D):\n",
    "    CV = 3\n",
    "    hitRate = 'balanced_accuracy'\n",
    "    \n",
    "    solucionActual = pd.DataFrame()\n",
    "    \n",
    "    solucion = dict()\n",
    "    \n",
    "    supportDataFrame = predictorVar\n",
    "   \n",
    "    if D is None:\n",
    "        D = len(predictorVar.columns)\n",
    "     \n",
    "    k=1\n",
    "    while(k<=D):\n",
    "    \n",
    "        \n",
    "        lastValue = 0\n",
    "        solucionTemporal = pd.DataFrame();\n",
    "        \n",
    "        for j in range(0, len(supportDataFrame.columns)):\n",
    "            X = pd.concat([solucionActual,supportDataFrame.iloc[:,j]], axis=1)\n",
    "            y = answerVar\n",
    "            if k==1:\n",
    "                validation = validacionRobusta(X.to_numpy().reshape(-1,1),y,CV,hitRate)\n",
    "            else:\n",
    "                validation = validacionRobusta(X,y,CV,hitRate)\n",
    "                \n",
    "            if(validation>lastValue):\n",
    "                lastValue = validation\n",
    "                solucionTemporal = X\n",
    "        \n",
    "        #Eliminamos del supportDataFrame la ultima variable añadida a la solución\n",
    "        lastColumn = solucionTemporal.columns[k-1]\n",
    "        del supportDataFrame[lastColumn]\n",
    "        \n",
    "        \n",
    "        #Actualizamos la solución actual\n",
    "        solucionActual = solucionTemporal\n",
    "        solucion.update({tuple(solucionActual.columns):validation})\n",
    "       \n",
    "        k = k+1\n",
    "        \n",
    "     #Creamos un DataFrame para mostrar los resultados\n",
    "    solucion=OrderedDict(sorted(solucion.items(),key=operator.itemgetter(1), reverse=True))\n",
    "        \n",
    "    df = pd.DataFrame([[key, solucion[key], len(key)] for key in solucion.keys()], columns=['Solution', 'Score','Size'])\n",
    "        \n",
    "    return df"
   ]
  },
  {
   "cell_type": "markdown",
   "metadata": {},
   "source": [
    "Procederemos a continuación a realizar los test correspondientes:\n"
   ]
  },
  {
   "cell_type": "code",
   "execution_count": null,
   "metadata": {},
   "outputs": [],
   "source": [
    "answerVar = dataFrame.iloc[:,-1]\n",
    "predictorVar = dataFrame.iloc[:,0:-1]\n",
    "D=None\n",
    "\n",
    "sfs(answerVar, predictorVar, D)"
   ]
  },
  {
   "cell_type": "markdown",
   "metadata": {},
   "source": [
    "# SFFS(Sequential floating forward selection)"
   ]
  },
  {
   "cell_type": "markdown",
   "metadata": {},
   "source": [
    "Al igual del apartado anterior, debemos sacar los elementos del fichero **CSV** e introducirlos en un **DataFrame** para poder trabajar con ellos de manera más eficiente. Además introduciremos las importaciones utilizadas para la realización de los algoritmos:"
   ]
  },
  {
   "cell_type": "code",
   "execution_count": 11,
   "metadata": {},
   "outputs": [],
   "source": [
    "import pandas as pd\n",
    "import numpy as np\n",
    "import operator\n",
    "from collections import OrderedDict\n",
    "\n",
    "\n",
    "from sklearn.model_selection import cross_val_score\n",
    "from sklearn.tree import DecisionTreeClassifier\n",
    "\n",
    "\n",
    "##Sacamos los datos del fichero csv\n",
    "datos = pd.read_csv('titanic.csv', sep=',', index_col=0)\n",
    "#datos = pd.read_csv('BreastCancerDataset.csv', sep=',', index_col=0)\n",
    "\n",
    "dataFrame = pd.DataFrame(datos)"
   ]
  },
  {
   "cell_type": "markdown",
   "metadata": {},
   "source": [
    "A continuación, procedemos a realizar el algoritmo SFFS:"
   ]
  },
  {
   "cell_type": "code",
   "execution_count": 12,
   "metadata": {},
   "outputs": [],
   "source": [
    "#Creación del algoritmo SFFS\n",
    "def sffs(answerVar, predictorVar):\n",
    "    \n",
    "    CV = 3\n",
    "    hitRate = 'balanced_accuracy'\n",
    "    \n",
    "    solucionActual = pd.DataFrame()\n",
    "    supportDataFrame = predictorVar\n",
    "    \n",
    "    añadidos = list()\n",
    "    eliminados = list()\n",
    "    solucion = dict()\n",
    "    solucionFinal=dict()\n",
    "    \n",
    "    \n",
    "    k=0\n",
    "    \n",
    "    while(k<len(predictorVar.columns)):\n",
    "        \n",
    "        mejorSolucionTemporal = seleccionaMejorVariable(supportDataFrame, solucionActual,k,CV,hitRate)\n",
    "          \n",
    "        solucionActual = mejorSolucionTemporal[0]\n",
    "        rendimiento = mejorSolucionTemporal[1]\n",
    "        añadidos.append(mejorSolucionTemporal[2])\n",
    "        \n",
    "        #Si procesamos más de una variable por iteración, miramos si podemos eliminar alguna para mejorar el rendimiento\n",
    "        if k!=0:\n",
    "            res = eliminaSiHayMejora(solucionActual, rendimiento, CV, hitRate, eliminados)\n",
    "            solucionActual= res[0]\n",
    "            eliminados= res[1]\n",
    "            validation= res[2]\n",
    "            #Guardamos todas las soluciones en un diccionario\n",
    "            solucion.update({tuple(solucionActual.columns):validation})\n",
    "        \n",
    "          #Eliminamos del supportDataFrame la mejor variable\n",
    "        for c in range (0, len(añadidos)):\n",
    "            nombreColumna = añadidos[c]\n",
    "            if nombreColumna in supportDataFrame.columns:\n",
    "                supportDataFrame=supportDataFrame.drop(nombreColumna, axis=1)\n",
    "               \n",
    "        \n",
    "        \n",
    "        \n",
    "        k=k+1\n",
    "    #Creamos un DataFrame para mostrar los resultados de cada iteración\n",
    "    solucionSinParada=mostrarSolucion(solucion)\n",
    "    \n",
    "     #Comparamos elementos de añadidos con las variables predictoras para poder lanzar la condición de parada\n",
    "    añadidosList= sorted(añadidos)\n",
    "    predictorVarList= sorted(predictorVar.columns)\n",
    "    \n",
    "    if añadidosList == predictorVarList:\n",
    "        res=condicionDeParada(eliminados,solucionActual,validation,CV, hitRate)\n",
    "        solucionActual=res[0]\n",
    "        rendimiento=res[1]\n",
    "    \n",
    "    #Creamos un DataFrame para mostrar la mejor solución después de la condición de parada.\n",
    "    solucionFinal.update({tuple(solucionActual.columns):rendimiento})\n",
    "    solucionConParada=mostrarSolucion(solucionFinal)\n",
    "   \n",
    "    return (solucionSinParada, solucionConParada)\n",
    "\n",
    "def seleccionaMejorVariable(supportDataFrame, solucionActual, k,CV,hitRate):\n",
    "    \n",
    "    lastValue = 0\n",
    "    bestSolucionTemporal = pd.DataFrame()\n",
    "    bestColumn = ''\n",
    "    \n",
    "    for j in range(0, len(supportDataFrame.columns)):\n",
    "            \n",
    "            solucionTemporal = supportDataFrame.iloc[:,j]\n",
    "            X = pd.concat([solucionActual,solucionTemporal], axis=1)\n",
    "            y = answerVar\n",
    "            \n",
    "            if k==0:\n",
    "                validation = validacionRobusta(X.to_numpy().reshape(-1,1),y,CV,hitRate)\n",
    "            else:\n",
    "                validation = validacionRobusta(X,y,CV,hitRate)\n",
    "                \n",
    "            if(validation>lastValue):\n",
    "                lastValue = validation\n",
    "                bestSolucionTemporal = X\n",
    "                bestColumn = solucionTemporal.name\n",
    "                \n",
    "    \n",
    "    return (bestSolucionTemporal, lastValue, bestColumn)\n",
    "    \n",
    "    \n",
    "def eliminaSiHayMejora(solucionActual, rendimiento, CV, hitRate, eliminados):\n",
    "    lastValue2 = 0\n",
    "    \n",
    "    for j in range(0, len(solucionActual.columns)):\n",
    "        \n",
    "        solucionTemporal=solucionActual\n",
    "        solucionTemporal=solucionTemporal.drop([solucionTemporal.columns[j]], axis=1)\n",
    "        X = solucionTemporal\n",
    "        y = answerVar\n",
    "        \n",
    "        if len(solucionActual.columns) == 2:\n",
    "            validation = validacionRobusta(X.to_numpy().reshape(-1,1),y,CV,hitRate)\n",
    "        else:\n",
    "            validation = validacionRobusta(X,y,CV,hitRate)\n",
    "        \n",
    "        if(validation>lastValue2):\n",
    "            lastValue2 = validation\n",
    "            mejorSolucionTemporal = X\n",
    "            colunmDeleted = solucionActual.iloc[:,j]\n",
    "            eliminadoTemporal = colunmDeleted.name\n",
    "        \n",
    "    if lastValue2>rendimiento:\n",
    "        validation=lastValue2\n",
    "        solucionActual = mejorSolucionTemporal     \n",
    "        eliminados.append(eliminadoTemporal)\n",
    "    else:\n",
    "        validation=rendimiento\n",
    "    \n",
    "    return (solucionActual, eliminados, validation)\n",
    "\n",
    "def mostrarSolucion(solucion):\n",
    "    solucionConParada = pd.DataFrame([[key, solucion[key], len(key)] for key in solucion.keys()], columns=['Solution', 'Score','Size'])\n",
    "    solucionConParada = solucionConParada.sort_values('Score',ascending=False)\n",
    "    \n",
    "    return solucionConParada\n",
    " \n",
    "def condicionDeParada(eliminados,solucionActual,validation,CV, hitRate):\n",
    "    c=0\n",
    "    eliminadosSinParada=eliminados[:]\n",
    "    while(c<10):\n",
    "        res = eliminaSiHayMejora(solucionActual, validation, CV, hitRate, eliminados) \n",
    "        solucionActual = res[0]\n",
    "        rendimiento = res[2]\n",
    "        if eliminadosSinParada == eliminados:\n",
    "            c=c+1\n",
    "            \n",
    "        else:\n",
    "            c=0\n",
    "            eliminadosSinParada = eliminados[:]\n",
    "    return (solucionActual,rendimiento )\n",
    "\n"
   ]
  },
  {
   "cell_type": "markdown",
   "metadata": {},
   "source": [
    "Procedemos a realizar los test correspondientes. En el primero mostraremos la solución sin aplicar la condición de parada, y en el segundo, si se aplicaría:"
   ]
  },
  {
   "cell_type": "code",
   "execution_count": 13,
   "metadata": {},
   "outputs": [
    {
     "data": {
      "text/html": [
       "<div>\n",
       "<style scoped>\n",
       "    .dataframe tbody tr th:only-of-type {\n",
       "        vertical-align: middle;\n",
       "    }\n",
       "\n",
       "    .dataframe tbody tr th {\n",
       "        vertical-align: top;\n",
       "    }\n",
       "\n",
       "    .dataframe thead th {\n",
       "        text-align: right;\n",
       "    }\n",
       "</style>\n",
       "<table border=\"1\" class=\"dataframe\">\n",
       "  <thead>\n",
       "    <tr style=\"text-align: right;\">\n",
       "      <th></th>\n",
       "      <th>Solution</th>\n",
       "      <th>Score</th>\n",
       "      <th>Size</th>\n",
       "    </tr>\n",
       "  </thead>\n",
       "  <tbody>\n",
       "    <tr>\n",
       "      <th>4</th>\n",
       "      <td>(SibSp, Deck, Title, Is_Married, Sex)</td>\n",
       "      <td>0.816197</td>\n",
       "      <td>5</td>\n",
       "    </tr>\n",
       "    <tr>\n",
       "      <th>2</th>\n",
       "      <td>(Initial, SibSp, Deck, Title)</td>\n",
       "      <td>0.813551</td>\n",
       "      <td>4</td>\n",
       "    </tr>\n",
       "    <tr>\n",
       "      <th>3</th>\n",
       "      <td>(Initial, SibSp, Deck, Title, Is_Married)</td>\n",
       "      <td>0.813369</td>\n",
       "      <td>5</td>\n",
       "    </tr>\n",
       "    <tr>\n",
       "      <th>1</th>\n",
       "      <td>(Initial, SibSp, Deck)</td>\n",
       "      <td>0.811260</td>\n",
       "      <td>3</td>\n",
       "    </tr>\n",
       "    <tr>\n",
       "      <th>0</th>\n",
       "      <td>(Initial, SibSp)</td>\n",
       "      <td>0.805388</td>\n",
       "      <td>2</td>\n",
       "    </tr>\n",
       "  </tbody>\n",
       "</table>\n",
       "</div>"
      ],
      "text/plain": [
       "                                    Solution     Score  Size\n",
       "4      (SibSp, Deck, Title, Is_Married, Sex)  0.816197     5\n",
       "2              (Initial, SibSp, Deck, Title)  0.813551     4\n",
       "3  (Initial, SibSp, Deck, Title, Is_Married)  0.813369     5\n",
       "1                     (Initial, SibSp, Deck)  0.811260     3\n",
       "0                           (Initial, SibSp)  0.805388     2"
      ]
     },
     "execution_count": 13,
     "metadata": {},
     "output_type": "execute_result"
    }
   ],
   "source": [
    "answerVar = dataFrame.iloc[:,-1]\n",
    "predictorVar = dataFrame.iloc[:,0:-1]\n",
    "solucion = sffs(answerVar, predictorVar)\n",
    "solucionSinParada = solucion[0]\n",
    "solucionSinParada"
   ]
  },
  {
   "cell_type": "code",
   "execution_count": 16,
   "metadata": {},
   "outputs": [
    {
     "name": "stdout",
     "output_type": "stream",
     "text": [
      "No se ha conseguido mejorar el resultado con la condicion de parada\n"
     ]
    },
    {
     "data": {
      "text/html": [
       "<div>\n",
       "<style scoped>\n",
       "    .dataframe tbody tr th:only-of-type {\n",
       "        vertical-align: middle;\n",
       "    }\n",
       "\n",
       "    .dataframe tbody tr th {\n",
       "        vertical-align: top;\n",
       "    }\n",
       "\n",
       "    .dataframe thead th {\n",
       "        text-align: right;\n",
       "    }\n",
       "</style>\n",
       "<table border=\"1\" class=\"dataframe\">\n",
       "  <thead>\n",
       "    <tr style=\"text-align: right;\">\n",
       "      <th></th>\n",
       "      <th>Solution</th>\n",
       "      <th>Score</th>\n",
       "      <th>Size</th>\n",
       "    </tr>\n",
       "  </thead>\n",
       "  <tbody>\n",
       "    <tr>\n",
       "      <th>0</th>\n",
       "      <td>(SibSp, Deck, Title, Is_Married, Sex)</td>\n",
       "      <td>0.816197</td>\n",
       "      <td>5</td>\n",
       "    </tr>\n",
       "  </tbody>\n",
       "</table>\n",
       "</div>"
      ],
      "text/plain": [
       "                                Solution     Score  Size\n",
       "0  (SibSp, Deck, Title, Is_Married, Sex)  0.816197     5"
      ]
     },
     "execution_count": 16,
     "metadata": {},
     "output_type": "execute_result"
    }
   ],
   "source": [
    "solucionConParada = solucion[1]\n",
    "if solucionSinParada.iloc[0].all() == solucionConParada.iloc[0].all():\n",
    "        print('No se ha conseguido mejorar el resultado con la condicion de parada')\n",
    "else:\n",
    "     print('Si se ha conseguido mejorar el resultado con la condicion de parada')\n",
    "\n",
    "solucionConParada"
   ]
  },
  {
   "cell_type": "code",
   "execution_count": null,
   "metadata": {},
   "outputs": [],
   "source": []
  }
 ],
 "metadata": {
  "kernelspec": {
   "display_name": "Python 3",
   "language": "python",
   "name": "python3"
  },
  "language_info": {
   "codemirror_mode": {
    "name": "ipython",
    "version": 3
   },
   "file_extension": ".py",
   "mimetype": "text/x-python",
   "name": "python",
   "nbconvert_exporter": "python",
   "pygments_lexer": "ipython3",
   "version": "3.7.3"
  }
 },
 "nbformat": 4,
 "nbformat_minor": 4
}
