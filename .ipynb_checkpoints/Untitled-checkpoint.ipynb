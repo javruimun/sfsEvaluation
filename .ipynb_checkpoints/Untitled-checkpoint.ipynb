{
 "cells": [
  {
   "cell_type": "code",
   "execution_count": 1,
   "metadata": {},
   "outputs": [],
   "source": [
    "import pandas as pd\n",
    "import numpy as np\n",
    "import math\n",
    "import sklearn\n",
    "\n",
    "import matplotlib.pyplot as plt\n",
    "from sklearn import tree, linear_model\n",
    "from sklearn.metrics import accuracy_score, balanced_accuracy_score\n",
    "from sklearn.model_selection import KFold\n",
    "from sklearn.model_selection import cross_val_score\n",
    "from sklearn.tree import DecisionTreeClassifier\n",
    "\n",
    "\n",
    "\n",
    "##Sacamos los datos del fichero csv\n",
    "datos = pd.read_csv('titanic.csv', sep=',', index_col=0)\n",
    "dataFrame = pd.DataFrame(datos)\n"
   ]
  },
  {
   "cell_type": "code",
   "execution_count": 2,
   "metadata": {},
   "outputs": [
    {
     "name": "stdout",
     "output_type": "stream",
     "text": [
      "0.7289881123573962\n"
     ]
    }
   ],
   "source": [
    "#Validación robusta\n",
    "#Seleccionamos el número de datos de entrada\n",
    "X = dataFrame.loc[:, ['Sex', 'Age', 'Fare']]\n",
    "y = dataFrame.loc[:,['Survived']]\n",
    "\n",
    "\n",
    "def validacionCruzada():\n",
    "    \n",
    "    scoreI = list()\n",
    "    accuracies = dict()\n",
    "    n_exp = 10\n",
    "    \n",
    "    for i in range(n_exp):\n",
    "        tree = DecisionTreeClassifier()\n",
    "        scores = cross_val_score(tree,X,y,cv=3,\n",
    "                             scoring = 'balanced_accuracy')\n",
    "        avgScores = np.mean(scores)\n",
    "        accuracies.update({i:avgScores})\n",
    "        i+=1\n",
    "\n",
    "    avgFinal = sum(accuracies.values())/n_exp\n",
    "    return avgFinal\n",
    "\n",
    "\n",
    "print(validacionCruzada())\n"
   ]
  }
 ],
 "metadata": {
  "kernelspec": {
   "display_name": "Python 3",
   "language": "python",
   "name": "python3"
  },
  "language_info": {
   "codemirror_mode": {
    "name": "ipython",
    "version": 3
   },
   "file_extension": ".py",
   "mimetype": "text/x-python",
   "name": "python",
   "nbconvert_exporter": "python",
   "pygments_lexer": "ipython3",
   "version": "3.7.7"
  }
 },
 "nbformat": 4,
 "nbformat_minor": 4
}
