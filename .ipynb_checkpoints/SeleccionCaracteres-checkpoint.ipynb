{
 "cells": [
  {
   "cell_type": "code",
   "execution_count": 27,
   "metadata": {},
   "outputs": [
    {
     "name": "stdout",
     "output_type": "stream",
     "text": [
      "        Sex   Age  SibSp  Parch     Fare  Embarked  Initial  Age_band  \\\n",
      "Pclass                                                                  \n",
      "3         0  22.0      1      0   7.2500         0        0         1   \n",
      "1         1  38.0      1      0  71.2833         1        1         2   \n",
      "3         1  26.0      0      0   7.9250         0        2         1   \n",
      "1         1  35.0      1      0  53.1000         0        1         2   \n",
      "3         0  35.0      0      0   8.0500         0        0         2   \n",
      "...     ...   ...    ...    ...      ...       ...      ...       ...   \n",
      "2         0  27.0      0      0  13.0000         0        4         1   \n",
      "1         1  19.0      0      0  30.0000         0        2         1   \n",
      "3         1  22.0      1      2  23.4500         0        2         1   \n",
      "1         0  26.0      0      0  30.0000         1        0         1   \n",
      "3         0  32.0      0      0   7.7500         2        0         1   \n",
      "\n",
      "        Family_Size  Alone  Fare_cat  Deck  Title  Is_Married  Survived  \n",
      "Pclass                                                                   \n",
      "3                 1      0         0     7     11           0         0  \n",
      "1                 1      0         3     2     12           1         1  \n",
      "3                 0      1         1     7      8           0         1  \n",
      "1                 1      0         3     2     12           1         1  \n",
      "3                 0      1         1     7     11           0         0  \n",
      "...             ...    ...       ...   ...    ...         ...       ...  \n",
      "2                 0      1         1     7     14           0         0  \n",
      "1                 0      1         2     1      8           0         1  \n",
      "3                 3      0         2     7      8           0         0  \n",
      "1                 0      1         2     2     11           0         1  \n",
      "3                 0      1         0     7     11           0         0  \n",
      "\n",
      "[891 rows x 15 columns]\n",
      "Survived\n",
      "0    549\n",
      "1    342\n",
      "dtype: int64\n"
     ]
    }
   ],
   "source": [
    "#Pruebas del método de validación cruzada y entrenamiento y predicción de árboles de decisión\n",
    "#En este ejemplo vamos a comprender la estructura de un árbol de decisión\n",
    "import pandas as pd\n",
    "import numpy as np\n",
    "import math\n",
    "import sklearn\n",
    "\n",
    "from sklearn.model_selection import train_test_split\n",
    "from sklearn.tree import DecisionTreeClassifier \n",
    "from sklearn import tree\n",
    "from sklearn.model_selection import KFold\n",
    "\n",
    "datos = pd.read_csv('titanic.csv', sep=',', index_col=0)\n",
    "#1 en variable respuesta:\n",
    "respuesta = datos.groupby('Survived').size()\n",
    "\n",
    "#Creamos el árbol de decisión\n",
    "cv = KFold(n_splits = 10)#Número de particiones\n",
    "numeroAtributos = len(list(datos))\n",
    "depth_range = range(1, numeroAtributos + 1)\n",
    "\n",
    "# Testearemos la profundidad de 1 a cantidad de atributos +1\n",
    "for depth in depth_range:\n",
    "    fold_accuracy = []\n",
    "    tree_model = tree.DecisionTreeClassifier(criterion='entropy',\n",
    "                                             min_samples_split=20,\n",
    "                                             min_samples_leaf=5,\n",
    "                                             max_depth = depth,\n",
    "                                             class_weight={1:3.5})\n",
    "    for train_fold, valid_fold in cv.split(datos):\n",
    "        f_train = artists_encoded.loc[train_fold] \n",
    "        f_valid = artists_encoded.loc[valid_fold] \n",
    "\n",
    "        model = tree_model.fit(X = f_train.drop(['top'], axis=1), \n",
    "                               y = f_train[\"top\"]) \n",
    "        valid_acc = model.score(X = f_valid.drop(['top'], axis=1), \n",
    "                                y = f_valid[\"top\"]) # calculamos la precision con el segmento de validacion\n",
    "        fold_accuracy.append(valid_acc)\n",
    "\n",
    "    avg = sum(fold_accuracy)/len(fold_accuracy)\n",
    "    accuracies.append(avg)\n",
    "\n",
    "\n",
    "#Test\n",
    "print(datos)\n",
    "print(respuesta)\n",
    "\n"
   ]
  },
  {
   "cell_type": "code",
   "execution_count": null,
   "metadata": {},
   "outputs": [],
   "source": []
  }
 ],
 "metadata": {
  "kernelspec": {
   "display_name": "Python 3",
   "language": "python",
   "name": "python3"
  },
  "language_info": {
   "codemirror_mode": {
    "name": "ipython",
    "version": 3
   },
   "file_extension": ".py",
   "mimetype": "text/x-python",
   "name": "python",
   "nbconvert_exporter": "python",
   "pygments_lexer": "ipython3",
   "version": "3.7.4"
  }
 },
 "nbformat": 4,
 "nbformat_minor": 4
}
